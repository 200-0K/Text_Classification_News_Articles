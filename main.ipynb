{
 "cells": [
  {
   "cell_type": "code",
   "execution_count": null,
   "metadata": {},
   "outputs": [],
   "source": [
    "# Tutorial URL: https://www.analyticsvidhya.com/blog/2021/12/text-classification-of-news-articles/\n",
    "import pandas as pd\n",
    "import numpy as np\n",
    "import re\n",
    "\n",
    "import nltk\n",
    "from nltk.corpus import stopwords\n",
    "nltk.download('stopwords')\n",
    "from nltk.stem import PorterStemmer\n",
    "from nltk.stem import WordNetLemmatizer\n",
    "nltk.download('wordnet')\n",
    "from nltk.tokenize import word_tokenize\n",
    "from nltk.tokenize import sent_tokenize\n",
    "nltk.download('punkt')\n",
    "\n",
    "from sklearn.feature_extraction.text import CountVectorizer\n",
    "from sklearn.feature_extraction.text import TfidfVectorizer\n",
    "from sklearn.model_selection import train_test_split\n",
    "from sklearn.linear_model import LogisticRegression\n",
    "from sklearn.tree import DecisionTreeClassifier\n",
    "from sklearn.ensemble import RandomForestClassifier\n",
    "from sklearn.neighbors import KNeighborsClassifier\n",
    "from sklearn.naive_bayes import GaussianNB, MultinomialNB, BernoulliNB\n",
    "from sklearn.svm import SVC, LinearSVC\n",
    "from sklearn.multiclass import OneVsRestClassifier\n",
    "from sklearn.metrics import accuracy_score\n",
    "from sklearn.metrics import precision_recall_fscore_support as score"
   ]
  },
  {
   "cell_type": "code",
   "execution_count": 2,
   "metadata": {},
   "outputs": [],
   "source": [
    "df = pd.read_csv(\"./dataset/BBC News Train.csv\")"
   ]
  },
  {
   "cell_type": "code",
   "execution_count": 3,
   "metadata": {},
   "outputs": [
    {
     "data": {
      "text/plain": [
       "0       0\n",
       "1       0\n",
       "2       0\n",
       "3       1\n",
       "4       0\n",
       "       ..\n",
       "1485    4\n",
       "1486    4\n",
       "1487    0\n",
       "1488    1\n",
       "1489    1\n",
       "Name: CategoryId, Length: 1490, dtype: int64"
      ]
     },
     "execution_count": 3,
     "metadata": {},
     "output_type": "execute_result"
    }
   ],
   "source": [
    "df[\"CategoryId\"] = df[\"Category\"].factorize()[0]\n",
    "df[\"CategoryId\"]"
   ]
  },
  {
   "cell_type": "code",
   "execution_count": 4,
   "metadata": {},
   "outputs": [],
   "source": [
    "def remove_tags(text):\n",
    "  remove = re.compile(r'')\n",
    "  return re.sub(remove, '', text)\n",
    "\n",
    "def special_char(text):\n",
    "  reviews = ''\n",
    "  for x in text:\n",
    "    if x.isalnum():\n",
    "      reviews = reviews + x\n",
    "    else:\n",
    "      reviews = reviews + ' '\n",
    "  return reviews\n",
    "\n",
    "def convert_lower(text):\n",
    "   return text.lower()\n",
    "\n",
    "def remove_stopwords(text):\n",
    "  stop_words = set(stopwords.words('english'))\n",
    "  words = word_tokenize(text)\n",
    "  return [x for x in words if x not in stop_words]\n",
    "\n",
    "def lemmatize_word(text):\n",
    "  wordnet = WordNetLemmatizer()\n",
    "  return \" \".join([wordnet.lemmatize(word) for word in text])"
   ]
  },
  {
   "cell_type": "code",
   "execution_count": 5,
   "metadata": {},
   "outputs": [
    {
     "data": {
      "text/plain": [
       "0       worldcom ex bos launch defence lawyer defendin...\n",
       "1       german business confidence slide german busine...\n",
       "2       bbc poll indicates economic gloom citizen majo...\n",
       "3       lifestyle governs mobile choice faster better ...\n",
       "4       enron boss 168m payout eighteen former enron d...\n",
       "                              ...                        \n",
       "1485    double eviction big brother model caprice holb...\n",
       "1486    dj double act revamp chart show dj duo jk joel...\n",
       "1487    weak dollar hit reuters revenue medium group r...\n",
       "1488    apple ipod family expands market apple expande...\n",
       "1489    santy worm make unwelcome visit thousand websi...\n",
       "Name: Text, Length: 1490, dtype: object"
      ]
     },
     "execution_count": 5,
     "metadata": {},
     "output_type": "execute_result"
    }
   ],
   "source": [
    "df[\"Text\"] = df.Text.apply(remove_tags)\n",
    "df[\"Text\"] = df.Text.apply(special_char)\n",
    "df[\"Text\"] = df.Text.apply(convert_lower)\n",
    "df[\"Text\"] = df.Text.apply(remove_stopwords)\n",
    "df[\"Text\"] = df.Text.apply(lemmatize_word)\n",
    "df[\"Text\"]"
   ]
  },
  {
   "cell_type": "code",
   "execution_count": 6,
   "metadata": {},
   "outputs": [
    {
     "name": "stdout",
     "output_type": "stream",
     "text": [
      "(1490, 5000)\n",
      "(1490,)\n"
     ]
    }
   ],
   "source": [
    "cv = CountVectorizer(max_features = 5000)\n",
    "x = cv.fit_transform(df[\"Text\"]).toarray()\n",
    "y = df[\"CategoryId\"].to_numpy()\n",
    "print(x.shape)\n",
    "print(y.shape)"
   ]
  },
  {
   "cell_type": "code",
   "execution_count": 7,
   "metadata": {},
   "outputs": [
    {
     "name": "stdout",
     "output_type": "stream",
     "text": [
      "1043\n",
      "447\n"
     ]
    }
   ],
   "source": [
    "x_train, x_test, y_train, y_test = train_test_split(x, y, test_size=.3, random_state=42, shuffle=True)\n",
    "print(len(x_train))\n",
    "print(len(x_test))"
   ]
  },
  {
   "cell_type": "code",
   "execution_count": 8,
   "metadata": {},
   "outputs": [],
   "source": [
    "perform_list = [] #a list of model and accuracy dicts\n",
    "def run_model(x_train, x_test, y_train, y_test, model_name, est_c, est_pnlty):\n",
    "  mdl = \"\"\n",
    "  if model_name == \"Logistic Regression\":\n",
    "    mdl = LogisticRegression()\n",
    "  elif model_name == \"Random Forest\":\n",
    "    mdl = RandomForestClassifier(n_estimators=100, criterion=\"entropy\", random_state=10)\n",
    "  elif model_name == \"Multinomial Naive Bayes\":\n",
    "    mdl = MultinomialNB(alpha=1.0, fit_prior=True)\n",
    "  elif model_name == \"Support Vector Classifer\":\n",
    "    mdl = SVC()\n",
    "  elif model_name == \"Decision Tree Classifier\":\n",
    "    mdl = DecisionTreeClassifier()\n",
    "  elif model_name == \"K Nearest Neighbour\":\n",
    "    mdl = KNeighborsClassifier(n_neighbors=10, metric=\"minkowski\", p=4)\n",
    "  elif model_name == \"Gaussian Naive Bayes\":\n",
    "    mdl = GaussianNB()\n",
    "  \n",
    "  oneVsRest = OneVsRestClassifier(mdl)\n",
    "  oneVsRest.fit(x_train, y_train)\n",
    "  y_pred = oneVsRest.predict(x_test)\n",
    "\n",
    "  # Performance metrics\n",
    "  accuracy = round(accuracy_score(y_test, y_pred) * 100, 2)\n",
    "\n",
    "  # Get precision, recall, f1 scores\n",
    "  precision, recall, f1score, support = score(y_test, y_pred, average=\"micro\")\n",
    "  print(f'Test Accuracy Score of Basic {model_name}: % {accuracy}')\n",
    "  print(f'Precision : {precision}')\n",
    "  print(f'Recall : {recall}')\n",
    "  print(f'F1-score : {f1score}')\n",
    "\n",
    "  # Add performance parameters to list\n",
    "  perform_list.append(dict([\n",
    "    ('Model', model_name),\n",
    "    ('Test Accuracy', round(accuracy, 2)),\n",
    "    ('Precision', round(precision, 2)),\n",
    "    ('Recall', round(recall, 2)),\n",
    "    ('F1', round(f1score, 2))\n",
    "  ]))"
   ]
  },
  {
   "cell_type": "code",
   "execution_count": 9,
   "metadata": {},
   "outputs": [
    {
     "name": "stdout",
     "output_type": "stream",
     "text": [
      "Test Accuracy Score of Basic Logistic Regression: % 96.64\n",
      "Precision : 0.9664429530201343\n",
      "Recall : 0.9664429530201343\n",
      "F1-score : 0.9664429530201343\n"
     ]
    }
   ],
   "source": [
    "run_model(x_train, x_test, y_train, y_test, \"Logistic Regression\", est_c=None, est_pnlty=None)"
   ]
  },
  {
   "cell_type": "code",
   "execution_count": 10,
   "metadata": {},
   "outputs": [
    {
     "name": "stdout",
     "output_type": "stream",
     "text": [
      "Test Accuracy Score of Basic Random Forest: % 97.99\n",
      "Precision : 0.9798657718120806\n",
      "Recall : 0.9798657718120806\n",
      "F1-score : 0.9798657718120806\n"
     ]
    }
   ],
   "source": [
    "run_model(x_train, x_test, y_train, y_test, \"Random Forest\", est_c=None, est_pnlty=None)"
   ]
  },
  {
   "cell_type": "code",
   "execution_count": 11,
   "metadata": {},
   "outputs": [
    {
     "name": "stdout",
     "output_type": "stream",
     "text": [
      "Test Accuracy Score of Basic Multinomial Naive Bayes: % 97.76\n",
      "Precision : 0.9776286353467561\n",
      "Recall : 0.9776286353467561\n",
      "F1-score : 0.9776286353467561\n"
     ]
    }
   ],
   "source": [
    "run_model(x_train, x_test, y_train, y_test, \"Multinomial Naive Bayes\", est_c=None, est_pnlty=None)"
   ]
  },
  {
   "cell_type": "code",
   "execution_count": 12,
   "metadata": {},
   "outputs": [
    {
     "name": "stdout",
     "output_type": "stream",
     "text": [
      "Test Accuracy Score of Basic Support Vector Classifer: % 95.97\n",
      "Precision : 0.959731543624161\n",
      "Recall : 0.959731543624161\n",
      "F1-score : 0.959731543624161\n"
     ]
    }
   ],
   "source": [
    "run_model(x_train, x_test, y_train, y_test, \"Support Vector Classifer\", est_c=None, est_pnlty=None)"
   ]
  },
  {
   "cell_type": "code",
   "execution_count": 13,
   "metadata": {},
   "outputs": [
    {
     "name": "stdout",
     "output_type": "stream",
     "text": [
      "Test Accuracy Score of Basic Decision Tree Classifier: % 81.21\n",
      "Precision : 0.8120805369127517\n",
      "Recall : 0.8120805369127517\n",
      "F1-score : 0.8120805369127517\n"
     ]
    }
   ],
   "source": [
    "run_model(x_train, x_test, y_train, y_test, \"Decision Tree Classifier\", est_c=None, est_pnlty=None)"
   ]
  },
  {
   "cell_type": "code",
   "execution_count": 14,
   "metadata": {},
   "outputs": [
    {
     "name": "stdout",
     "output_type": "stream",
     "text": [
      "Test Accuracy Score of Basic K Nearest Neighbour: % 71.59\n",
      "Precision : 0.7158836689038032\n",
      "Recall : 0.7158836689038032\n",
      "F1-score : 0.7158836689038032\n"
     ]
    }
   ],
   "source": [
    "run_model(x_train, x_test, y_train, y_test, \"K Nearest Neighbour\", est_c=None, est_pnlty=None)"
   ]
  },
  {
   "cell_type": "code",
   "execution_count": 15,
   "metadata": {},
   "outputs": [
    {
     "name": "stdout",
     "output_type": "stream",
     "text": [
      "Test Accuracy Score of Basic Gaussian Naive Bayes: % 78.52\n",
      "Precision : 0.785234899328859\n",
      "Recall : 0.785234899328859\n",
      "F1-score : 0.7852348993288589\n"
     ]
    }
   ],
   "source": [
    "run_model(x_train, x_test, y_train, y_test, \"Gaussian Naive Bayes\", est_c=None, est_pnlty=None)"
   ]
  },
  {
   "cell_type": "code",
   "execution_count": 16,
   "metadata": {},
   "outputs": [
    {
     "data": {
      "text/html": [
       "<div>\n",
       "<style scoped>\n",
       "    .dataframe tbody tr th:only-of-type {\n",
       "        vertical-align: middle;\n",
       "    }\n",
       "\n",
       "    .dataframe tbody tr th {\n",
       "        vertical-align: top;\n",
       "    }\n",
       "\n",
       "    .dataframe thead th {\n",
       "        text-align: right;\n",
       "    }\n",
       "</style>\n",
       "<table border=\"1\" class=\"dataframe\">\n",
       "  <thead>\n",
       "    <tr style=\"text-align: right;\">\n",
       "      <th></th>\n",
       "      <th>Model</th>\n",
       "      <th>Test Accuracy</th>\n",
       "      <th>Precision</th>\n",
       "      <th>Recall</th>\n",
       "      <th>F1</th>\n",
       "    </tr>\n",
       "  </thead>\n",
       "  <tbody>\n",
       "    <tr>\n",
       "      <th>0</th>\n",
       "      <td>Logistic Regression</td>\n",
       "      <td>96.64</td>\n",
       "      <td>0.97</td>\n",
       "      <td>0.97</td>\n",
       "      <td>0.97</td>\n",
       "    </tr>\n",
       "    <tr>\n",
       "      <th>1</th>\n",
       "      <td>Random Forest</td>\n",
       "      <td>97.99</td>\n",
       "      <td>0.98</td>\n",
       "      <td>0.98</td>\n",
       "      <td>0.98</td>\n",
       "    </tr>\n",
       "    <tr>\n",
       "      <th>2</th>\n",
       "      <td>Multinomial Naive Bayes</td>\n",
       "      <td>97.76</td>\n",
       "      <td>0.98</td>\n",
       "      <td>0.98</td>\n",
       "      <td>0.98</td>\n",
       "    </tr>\n",
       "    <tr>\n",
       "      <th>3</th>\n",
       "      <td>Support Vector Classifer</td>\n",
       "      <td>95.97</td>\n",
       "      <td>0.96</td>\n",
       "      <td>0.96</td>\n",
       "      <td>0.96</td>\n",
       "    </tr>\n",
       "    <tr>\n",
       "      <th>4</th>\n",
       "      <td>Decision Tree Classifier</td>\n",
       "      <td>81.21</td>\n",
       "      <td>0.81</td>\n",
       "      <td>0.81</td>\n",
       "      <td>0.81</td>\n",
       "    </tr>\n",
       "    <tr>\n",
       "      <th>5</th>\n",
       "      <td>K Nearest Neighbour</td>\n",
       "      <td>71.59</td>\n",
       "      <td>0.72</td>\n",
       "      <td>0.72</td>\n",
       "      <td>0.72</td>\n",
       "    </tr>\n",
       "    <tr>\n",
       "      <th>6</th>\n",
       "      <td>Gaussian Naive Bayes</td>\n",
       "      <td>78.52</td>\n",
       "      <td>0.79</td>\n",
       "      <td>0.79</td>\n",
       "      <td>0.79</td>\n",
       "    </tr>\n",
       "  </tbody>\n",
       "</table>\n",
       "</div>"
      ],
      "text/plain": [
       "                      Model  Test Accuracy  Precision  Recall    F1\n",
       "0       Logistic Regression          96.64       0.97    0.97  0.97\n",
       "1             Random Forest          97.99       0.98    0.98  0.98\n",
       "2   Multinomial Naive Bayes          97.76       0.98    0.98  0.98\n",
       "3  Support Vector Classifer          95.97       0.96    0.96  0.96\n",
       "4  Decision Tree Classifier          81.21       0.81    0.81  0.81\n",
       "5       K Nearest Neighbour          71.59       0.72    0.72  0.72\n",
       "6      Gaussian Naive Bayes          78.52       0.79    0.79  0.79"
      ]
     },
     "execution_count": 16,
     "metadata": {},
     "output_type": "execute_result"
    }
   ],
   "source": [
    "model_performance = pd.DataFrame(perform_list)\n",
    "model_performance"
   ]
  },
  {
   "cell_type": "code",
   "execution_count": 17,
   "metadata": {},
   "outputs": [
    {
     "name": "stdout",
     "output_type": "stream",
     "text": [
      "~Best model\n",
      "Model: Random Forest\n",
      "Accuracy: 97.99\n"
     ]
    }
   ],
   "source": [
    "best_model = model_performance[model_performance[\"Test Accuracy\"] == model_performance[\"Test Accuracy\"].max()].iloc[0]\n",
    "print(\"~Best model\")\n",
    "print(\"Model:\", best_model[\"Model\"])\n",
    "print(\"Accuracy:\", best_model[\"Test Accuracy\"])"
   ]
  },
  {
   "cell_type": "code",
   "execution_count": 18,
   "metadata": {},
   "outputs": [
    {
     "data": {
      "text/plain": [
       "array([4, 2, 2, 1, 1, 0, 1, 4, 0, 1, 2, 4, 0, 3, 1, 0, 0, 3, 2, 0, 1, 4,\n",
       "       3, 0, 3, 1, 0, 3, 1, 0, 3, 0, 0, 2, 3, 1, 4, 0, 4, 0, 3, 0, 2, 0,\n",
       "       3, 0, 2, 1, 2, 0, 3, 3, 0, 3, 2, 4, 4, 2, 0, 4, 1, 0, 4, 1, 1, 1,\n",
       "       0, 1, 2, 2, 2, 3, 3, 3, 4, 4, 0, 2, 0, 0, 0, 3, 3, 3, 0, 4, 3, 0,\n",
       "       0, 1, 4, 2, 2, 1, 0, 2, 1, 1, 4, 2, 4, 2, 4, 3, 1, 3, 2, 3, 0, 1,\n",
       "       1, 0, 1, 4, 1, 0, 2, 0, 4, 0, 2, 3, 0, 2, 0, 0, 1, 1, 2, 4, 0, 3,\n",
       "       4, 3, 0, 2, 0, 4, 0, 4, 0, 4, 1, 3, 4, 2, 0, 1, 2, 2, 3, 0, 1, 3,\n",
       "       4, 1, 4, 3, 1, 3, 3, 2, 0, 1, 2, 2, 1, 3, 3, 1, 2, 1, 1, 4, 0, 1,\n",
       "       4, 3, 0, 0, 3, 3, 1, 4, 4, 0, 1, 2, 4, 2, 3, 3, 2, 1, 3, 3, 2, 3,\n",
       "       3, 0, 4, 2, 3, 4, 0, 3, 1, 1, 0, 0, 3, 1, 0, 4, 3, 2, 2, 3, 1, 2,\n",
       "       3, 1, 0, 0, 4, 3, 0, 2, 2, 2, 2, 3, 3, 0, 0, 1, 0, 3, 3, 2, 2, 4,\n",
       "       4, 4, 0, 0, 4, 4, 3, 4, 0, 2, 1, 3, 2, 1, 4, 3, 1, 0, 0, 2, 4, 1,\n",
       "       1, 3, 3, 0, 2, 4, 3, 3, 1, 3, 3, 3, 3, 3, 0, 2, 4, 0, 0, 2, 0, 0,\n",
       "       0, 1, 2, 4, 0, 0, 0, 0, 2, 4, 1, 4, 3, 0, 2, 3, 2, 0, 0, 4, 0, 4,\n",
       "       4, 3, 1, 1, 2, 1, 0, 3, 4, 3, 1, 3, 4, 2, 4, 4, 2, 0, 1, 4, 0, 3,\n",
       "       4, 1, 0, 0, 2, 0, 3, 2, 0, 2, 4, 3, 0, 4, 3, 4, 3, 0, 0, 2, 2, 3,\n",
       "       3, 4, 2, 3, 3, 0, 1, 3, 2, 2, 1, 1, 0, 4, 3, 0, 4, 2, 4, 3, 2, 3,\n",
       "       1, 4, 2, 4, 2, 3, 2, 1, 4, 4, 3, 3, 3, 3, 3, 0, 3, 3, 3, 0, 4, 3,\n",
       "       4, 4, 0, 3, 3, 1, 2, 4, 0, 0, 4, 4, 0, 4, 0, 0, 0, 3, 2, 2, 3, 2,\n",
       "       4, 3, 2, 2, 3, 3, 2, 1, 2, 1, 3, 0, 1, 2, 0, 2, 0, 2, 4, 0, 4, 1,\n",
       "       0, 2, 0, 3, 3, 4, 1], dtype=int64)"
      ]
     },
     "execution_count": 18,
     "metadata": {},
     "output_type": "execute_result"
    }
   ],
   "source": [
    "classifier = RandomForestClassifier(n_estimators=100, criterion=\"entropy\", random_state=42).fit(x_train, y_train)\n",
    "y_pred = classifier.predict(x_test)\n",
    "y_pred"
   ]
  },
  {
   "cell_type": "code",
   "execution_count": 19,
   "metadata": {},
   "outputs": [
    {
     "name": "stdout",
     "output_type": "stream",
     "text": [
      "Predicted Category: Sport\n"
     ]
    }
   ],
   "source": [
    "x_pred = cv.transform([\"Hour ago, I contemplated retirement for a lot of reasons. I felt like people were not sensitive enough to my injuries. I felt like a lot of people were backed, why not me? I have done no less. I have won a lot of games for the team, and I am not feeling backed, said Ashwin\"])\n",
    "y_pred = classifier.predict(x_pred)\n",
    "print(\"Predicted Category:\", df[df[\"CategoryId\"] == y_pred[0]].iloc[0][\"Category\"].title())"
   ]
  },
  {
   "cell_type": "code",
   "execution_count": null,
   "metadata": {},
   "outputs": [],
   "source": []
  }
 ],
 "metadata": {
  "interpreter": {
   "hash": "edcd1074efc020e46ef274ae62fc2a26bd98d3b5762674edddbf56b10aff0b04"
  },
  "kernelspec": {
   "display_name": "Python 3.10.1 64-bit",
   "language": "python",
   "name": "python3"
  },
  "language_info": {
   "codemirror_mode": {
    "name": "ipython",
    "version": 3
   },
   "file_extension": ".py",
   "mimetype": "text/x-python",
   "name": "python",
   "nbconvert_exporter": "python",
   "pygments_lexer": "ipython3",
   "version": "3.10.1"
  },
  "orig_nbformat": 4
 },
 "nbformat": 4,
 "nbformat_minor": 2
}
